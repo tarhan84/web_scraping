{
  "nbformat": 4,
  "nbformat_minor": 0,
  "metadata": {
    "colab": {
      "name": "Untitled0.ipynb",
      "provenance": [],
      "authorship_tag": "ABX9TyO9AhF+3smd7jZX1/YFQe5v",
      "include_colab_link": true
    },
    "kernelspec": {
      "name": "python3",
      "display_name": "Python 3"
    },
    "language_info": {
      "name": "python"
    }
  },
  "cells": [
    {
      "cell_type": "markdown",
      "metadata": {
        "id": "view-in-github",
        "colab_type": "text"
      },
      "source": [
        "<a href=\"https://colab.research.google.com/github/tarhan84/web_scraping/blob/main/karar.ipynb\" target=\"_parent\"><img src=\"https://colab.research.google.com/assets/colab-badge.svg\" alt=\"Open In Colab\"/></a>"
      ]
    },
    {
      "cell_type": "code",
      "metadata": {
        "colab": {
          "base_uri": "https://localhost:8080/"
        },
        "id": "j7PYwkMDn3cQ",
        "outputId": "cb96726b-5f96-4441-bcd4-1b57c35a7be7"
      },
      "source": [
        "from google.colab import drive\n",
        "drive.mount('/content/drive/', force_remount=True)"
      ],
      "execution_count": 1,
      "outputs": [
        {
          "output_type": "stream",
          "text": [
            "Mounted at /content/drive/\n"
          ],
          "name": "stdout"
        }
      ]
    },
    {
      "cell_type": "code",
      "metadata": {
        "id": "XwwB896En-Zh"
      },
      "source": [
        "import os\n",
        "import bs4\n",
        "import requests\n",
        "from bs4 import BeautifulSoup\n",
        "import pandas as pd\n",
        "import numpy as np\n",
        "import os\n",
        "import urllib.request\n",
        "import re\n",
        "from pandas import DataFrame\n",
        "import csv\n",
        "import datetime\n",
        "from datetime import datetime, timedelta"
      ],
      "execution_count": 2,
      "outputs": []
    },
    {
      "cell_type": "code",
      "metadata": {
        "id": "daqmiF73oHcs"
      },
      "source": [
        "def link_creator():\n",
        "  keys = [\"kanser\",\"prostat kanseri\",\"meme kanseri\"]\n",
        "  links = []\n",
        "  kan_link =\"https://www.karar.com/ara?key=kanser&page=\"\n",
        "  pros_link = \"https://www.karar.com/ara?key=prostat+kanseri\"\n",
        "  mem_link = \"https://www.karar.com/ara?key=meme+kanseri&page=\"\n",
        "\n",
        "  for i in range(1,20,1):\n",
        "    links.append(\"{}{}\".format(kan_link,i))\n",
        "\n",
        "  for i in range(1,3,1):\n",
        "    links.append(\"{}{}\".format(mem_link,i))\n",
        "  \n",
        "  links.append(pros_link)\n",
        "  return links"
      ],
      "execution_count": 16,
      "outputs": []
    },
    {
      "cell_type": "code",
      "metadata": {
        "colab": {
          "base_uri": "https://localhost:8080/"
        },
        "id": "lhiQQf2Vo3fg",
        "outputId": "d8085f29-6b6a-418f-a248-aa4e2e8b342e"
      },
      "source": [
        "page_links = link_creator()\n",
        "print(links)"
      ],
      "execution_count": 19,
      "outputs": [
        {
          "output_type": "stream",
          "text": [
            "['https://www.karar.com/ara?key=kanser&page=1', 'https://www.karar.com/ara?key=kanser&page=2', 'https://www.karar.com/ara?key=kanser&page=3', 'https://www.karar.com/ara?key=kanser&page=4', 'https://www.karar.com/ara?key=kanser&page=5', 'https://www.karar.com/ara?key=kanser&page=6', 'https://www.karar.com/ara?key=kanser&page=7', 'https://www.karar.com/ara?key=kanser&page=8', 'https://www.karar.com/ara?key=kanser&page=9', 'https://www.karar.com/ara?key=kanser&page=10', 'https://www.karar.com/ara?key=kanser&page=11', 'https://www.karar.com/ara?key=kanser&page=12', 'https://www.karar.com/ara?key=kanser&page=13', 'https://www.karar.com/ara?key=kanser&page=14', 'https://www.karar.com/ara?key=kanser&page=15', 'https://www.karar.com/ara?key=kanser&page=16', 'https://www.karar.com/ara?key=kanser&page=17', 'https://www.karar.com/ara?key=kanser&page=18', 'https://www.karar.com/ara?key=kanser&page=19', 'https://www.karar.com/ara?key=meme+kanseri&page=1', 'https://www.karar.com/ara?key=meme+kanseri&page=2', 'https://www.karar.com/ara?key=prostat+kanseri']\n"
          ],
          "name": "stdout"
        }
      ]
    },
    {
      "cell_type": "code",
      "metadata": {
        "id": "gQ8h5IMBsc46"
      },
      "source": [
        "news_links = []"
      ],
      "execution_count": 62,
      "outputs": []
    },
    {
      "cell_type": "code",
      "metadata": {
        "id": "j010bPTJq-m_"
      },
      "source": [
        "def create_news_link(link):\n",
        "  r = requests.get(link)   \n",
        "  soup = BeautifulSoup(r.content, 'html5lib')\n",
        "  links = soup.find(\"div\", class_=\"search-result\").find_all(\"div\",class_=\"item\")\n",
        "  for l in links:\n",
        "    tmp = \"{}{}\".format(\"https://www.karar.com\",l.a.get(\"href\"))\n",
        "    news_links.append(tmp)\n",
        "  "
      ],
      "execution_count": 64,
      "outputs": []
    },
    {
      "cell_type": "code",
      "metadata": {
        "id": "5q4wWmODxApd"
      },
      "source": [
        "def write_to_txt(data):\n",
        "  with open(\"karar.txt\", 'a') as file: \n",
        "    file.write(data+'\\n')\n",
        "    file.truncate()"
      ],
      "execution_count": 104,
      "outputs": []
    },
    {
      "cell_type": "code",
      "metadata": {
        "id": "yd-NCm13rRUm"
      },
      "source": [
        "for lnk in links:\n",
        "  create_news_link(lnk)"
      ],
      "execution_count": 65,
      "outputs": []
    },
    {
      "cell_type": "code",
      "metadata": {
        "id": "6q47aDryuxjd"
      },
      "source": [
        "def get_data_from_url(url):\n",
        "  r = requests.get(url)\n",
        "  soup = BeautifulSoup(r.content, 'html5lib')\n",
        "  try:\n",
        "    title = soup.find(\"h1\").getText()\n",
        "    content_array = soup.find(\"article\", class_=\"article-content\").getText().split()\n",
        "    date = content_array[0]\n",
        "    content_array.pop(0)\n",
        "    content_array.pop(0)\n",
        "    content = \"\"\n",
        "    for sen in content_array:\n",
        "      content = content+\" \"+sen\n",
        "    data = \"{};{};{};{}\".format(url,date,title,content)\n",
        "    write_to_txt(data)\n",
        "\n",
        "  except:\n",
        "    pass"
      ],
      "execution_count": 107,
      "outputs": []
    },
    {
      "cell_type": "code",
      "metadata": {
        "id": "AC4OkWxvsop7"
      },
      "source": [
        "for l1 in news_links:\n",
        "  get_data_from_url(l1)"
      ],
      "execution_count": null,
      "outputs": []
    }
  ]
}